{
  "cells": [
    {
      "cell_type": "code",
      "source": [
        "# pip install xlrd seaborn statsmodels.tsa.arima.model"
      ],
      "outputs": [
        {
          "output_type": "stream",
          "name": "stdout",
          "text": "Requirement already satisfied: xlrd in /anaconda/envs/azureml_py310_sdkv2/lib/python3.10/site-packages (2.0.1)\nRequirement already satisfied: seaborn in /anaconda/envs/azureml_py310_sdkv2/lib/python3.10/site-packages (0.13.2)\n\u001b[31mERROR: Could not find a version that satisfies the requirement sklearn.impute (from versions: none)\u001b[0m\u001b[31m\n\u001b[0m\u001b[31mERROR: No matching distribution found for sklearn.impute\u001b[0m\u001b[31m\n\u001b[0mNote: you may need to restart the kernel to use updated packages.\n"
        }
      ],
      "execution_count": 1,
      "metadata": {
        "jupyter": {
          "source_hidden": false,
          "outputs_hidden": false
        },
        "nteract": {
          "transient": {
            "deleting": false
          }
        },
        "gather": {
          "logged": 1717760916892
        }
      }
    },
    {
      "cell_type": "code",
      "source": [
        "import pandas as pd\n",
        "import xlrd\n",
        "import numpy as np\n",
        "import matplotlib.pyplot as plt\n",
        "import seaborn as sns\n",
        "from sklearn.impute import SimpleImputer\n",
        "from statsmodels.tsa.arima.model import ARIMA\n",
        "from datetime import timedelta\n",
        "\n",
        "from keras.models import Sequential\n",
        "from keras.layers import LSTM, Dense, Dropout"
      ],
      "outputs": [
        {
          "output_type": "stream",
          "name": "stderr",
          "text": "2024-06-23 11:19:47.564843: I external/local_tsl/tsl/cuda/cudart_stub.cc:32] Could not find cuda drivers on your machine, GPU will not be used.\n2024-06-23 11:19:48.586332: I external/local_tsl/tsl/cuda/cudart_stub.cc:32] Could not find cuda drivers on your machine, GPU will not be used.\n2024-06-23 11:19:52.406887: I tensorflow/core/platform/cpu_feature_guard.cc:210] This TensorFlow binary is optimized to use available CPU instructions in performance-critical operations.\nTo enable the following instructions: AVX2 FMA, in other operations, rebuild TensorFlow with the appropriate compiler flags.\n2024-06-23 11:19:55.902094: W tensorflow/compiler/tf2tensorrt/utils/py_utils.cc:38] TF-TRT Warning: Could not find TensorRT\n"
        }
      ],
      "execution_count": 1,
      "metadata": {
        "gather": {
          "logged": 1719141599162
        }
      }
    },
    {
      "cell_type": "code",
      "source": [
        "grocery_data = pd.read_csv(\"./data/Merged_final_deep.csv\")\n",
        "\n",
        "# We will parse date column as datetime and set as index\n",
        "grocery_data['Date'] = pd.to_datetime(grocery_data['Date'])\n",
        "grocery_data.set_index('Date', inplace=True)\n",
        "\n",
        "# Load weather data\n",
        "weather_data = pd.read_excel('./WeatherData.xlsx', engine='openpyxl')\n",
        "weather_data['Dates'] = pd.to_datetime(weather_data['Dates'])\n",
        "weather_data.set_index('Dates', inplace=True)\n",
        "\n",
        "weather_data = weather_data.drop(['wdir','wspd','wpgt','pres','tsun'], axis=1)"
      ],
      "outputs": [
        {
          "output_type": "stream",
          "name": "stderr",
          "text": "/tmp/ipykernel_4679/171324238.py:1: DtypeWarning: Columns (1,3) have mixed types. Specify dtype option on import or set low_memory=False.\n  grocery_data = pd.read_csv(\"./data/Merged_final_deep.csv\")\n"
        }
      ],
      "execution_count": 2,
      "metadata": {
        "jupyter": {
          "source_hidden": false,
          "outputs_hidden": false
        },
        "nteract": {
          "transient": {
            "deleting": false
          }
        },
        "gather": {
          "logged": 1719141639861
        }
      }
    },
    {
      "cell_type": "code",
      "source": [
        "import pandas as pd\n",
        "\n",
        "# # Convert 'Date' column to datetime format\n",
        "# grocery_data['Date'] = pd.to_datetime(grocery_data['Date'], errors='coerce')\n",
        "\n",
        "# Ensure 'Description' is a string\n",
        "grocery_data['Description'] = grocery_data['Description'].astype(str)\n",
        "\n",
        "# Ensure 'Qty Sold' is numeric\n",
        "grocery_data['Qty Sold'] = pd.to_numeric(grocery_data['Qty Sold'], errors='coerce')\n",
        "\n",
        "# Pivot the data\n",
        "grocery_data = grocery_data.pivot_table(index='Date', columns='Description', values='Qty Sold', aggfunc='sum')\n",
        "grocery_data = grocery_data.drop('Description', axis=1)\n",
        "\n",
        "# Fill any NaN values that occur during pivoting\n",
        "grocery_data.fillna(0, inplace=True)\n",
        "\n",
        "grocery_data.head()"
      ],
      "outputs": [
        {
          "output_type": "execute_result",
          "execution_count": 3,
          "data": {
            "text/plain": "Description  100 COFFEE FILTERS  100 GRAND  100 Grand  13 candles  14 Candles  \\\nDate                                                                            \n2022-08-15                  0.0        0.0        0.0         0.0         0.0   \n2022-08-16                  0.0        0.0        0.0         0.0         0.0   \n2022-08-17                  0.0        0.0        0.0         0.0         0.0   \n2022-08-18                  0.0        0.0        0.0         0.0         0.0   \n2022-08-19                  0.0        0.0        0.0         0.0         0.0   \n\nDescription  15 balloons  16 Candles  16 Red Solo Cups  160cups  \\\nDate                                                              \n2022-08-15           2.0         0.0               0.0      0.0   \n2022-08-16           0.0         0.0               0.0      0.0   \n2022-08-17           0.0         0.0               0.0      0.0   \n2022-08-18           0.0         0.0               0.0      0.0   \n2022-08-19           0.0         0.0               0.0      0.0   \n\nDescription  1911 Blueberry Hard Cider\\n4PK  ...  strong and soft  \\\nDate                                         ...                    \n2022-08-15                              0.0  ...              0.0   \n2022-08-16                              0.0  ...              0.0   \n2022-08-17                              0.0  ...              0.0   \n2022-08-18                              1.0  ...              0.0   \n2022-08-19                              0.0  ...              0.0   \n\nDescription  tomato soup  toothbrushes  triscuit  vo5 Conditioner  \\\nDate                                                                \n2022-08-15           0.0           0.0       1.0              0.0   \n2022-08-16           0.0           0.0       0.0              0.0   \n2022-08-17           0.0           0.0       0.0              0.0   \n2022-08-18           0.0           0.0       0.0              0.0   \n2022-08-19           0.0           0.0       0.0              0.0   \n\nDescription  vo5 extra body conditoner  vo5 moisturizing shampoo  \\\nDate                                                               \n2022-08-15                         0.0                       0.0   \n2022-08-16                         0.0                       0.0   \n2022-08-17                         0.0                       0.0   \n2022-08-18                         0.0                       0.0   \n2022-08-19                         0.0                       0.0   \n\nDescription  whole wheat bread  xtra care Hand sanitizer  zzzQuil  \nDate                                                               \n2022-08-15                 0.0                       0.0      0.0  \n2022-08-16                 0.0                       0.0      0.0  \n2022-08-17                 0.0                       0.0      0.0  \n2022-08-18                 0.0                       0.0      0.0  \n2022-08-19                 0.0                       0.0      0.0  \n\n[5 rows x 3821 columns]",
            "text/html": "<div>\n<style scoped>\n    .dataframe tbody tr th:only-of-type {\n        vertical-align: middle;\n    }\n\n    .dataframe tbody tr th {\n        vertical-align: top;\n    }\n\n    .dataframe thead th {\n        text-align: right;\n    }\n</style>\n<table border=\"1\" class=\"dataframe\">\n  <thead>\n    <tr style=\"text-align: right;\">\n      <th>Description</th>\n      <th>100 COFFEE FILTERS</th>\n      <th>100 GRAND</th>\n      <th>100 Grand</th>\n      <th>13 candles</th>\n      <th>14 Candles</th>\n      <th>15 balloons</th>\n      <th>16 Candles</th>\n      <th>16 Red Solo Cups</th>\n      <th>160cups</th>\n      <th>1911 Blueberry Hard Cider\\n4PK</th>\n      <th>...</th>\n      <th>strong and soft</th>\n      <th>tomato soup</th>\n      <th>toothbrushes</th>\n      <th>triscuit</th>\n      <th>vo5 Conditioner</th>\n      <th>vo5 extra body conditoner</th>\n      <th>vo5 moisturizing shampoo</th>\n      <th>whole wheat bread</th>\n      <th>xtra care Hand sanitizer</th>\n      <th>zzzQuil</th>\n    </tr>\n    <tr>\n      <th>Date</th>\n      <th></th>\n      <th></th>\n      <th></th>\n      <th></th>\n      <th></th>\n      <th></th>\n      <th></th>\n      <th></th>\n      <th></th>\n      <th></th>\n      <th></th>\n      <th></th>\n      <th></th>\n      <th></th>\n      <th></th>\n      <th></th>\n      <th></th>\n      <th></th>\n      <th></th>\n      <th></th>\n      <th></th>\n    </tr>\n  </thead>\n  <tbody>\n    <tr>\n      <th>2022-08-15</th>\n      <td>0.0</td>\n      <td>0.0</td>\n      <td>0.0</td>\n      <td>0.0</td>\n      <td>0.0</td>\n      <td>2.0</td>\n      <td>0.0</td>\n      <td>0.0</td>\n      <td>0.0</td>\n      <td>0.0</td>\n      <td>...</td>\n      <td>0.0</td>\n      <td>0.0</td>\n      <td>0.0</td>\n      <td>1.0</td>\n      <td>0.0</td>\n      <td>0.0</td>\n      <td>0.0</td>\n      <td>0.0</td>\n      <td>0.0</td>\n      <td>0.0</td>\n    </tr>\n    <tr>\n      <th>2022-08-16</th>\n      <td>0.0</td>\n      <td>0.0</td>\n      <td>0.0</td>\n      <td>0.0</td>\n      <td>0.0</td>\n      <td>0.0</td>\n      <td>0.0</td>\n      <td>0.0</td>\n      <td>0.0</td>\n      <td>0.0</td>\n      <td>...</td>\n      <td>0.0</td>\n      <td>0.0</td>\n      <td>0.0</td>\n      <td>0.0</td>\n      <td>0.0</td>\n      <td>0.0</td>\n      <td>0.0</td>\n      <td>0.0</td>\n      <td>0.0</td>\n      <td>0.0</td>\n    </tr>\n    <tr>\n      <th>2022-08-17</th>\n      <td>0.0</td>\n      <td>0.0</td>\n      <td>0.0</td>\n      <td>0.0</td>\n      <td>0.0</td>\n      <td>0.0</td>\n      <td>0.0</td>\n      <td>0.0</td>\n      <td>0.0</td>\n      <td>0.0</td>\n      <td>...</td>\n      <td>0.0</td>\n      <td>0.0</td>\n      <td>0.0</td>\n      <td>0.0</td>\n      <td>0.0</td>\n      <td>0.0</td>\n      <td>0.0</td>\n      <td>0.0</td>\n      <td>0.0</td>\n      <td>0.0</td>\n    </tr>\n    <tr>\n      <th>2022-08-18</th>\n      <td>0.0</td>\n      <td>0.0</td>\n      <td>0.0</td>\n      <td>0.0</td>\n      <td>0.0</td>\n      <td>0.0</td>\n      <td>0.0</td>\n      <td>0.0</td>\n      <td>0.0</td>\n      <td>1.0</td>\n      <td>...</td>\n      <td>0.0</td>\n      <td>0.0</td>\n      <td>0.0</td>\n      <td>0.0</td>\n      <td>0.0</td>\n      <td>0.0</td>\n      <td>0.0</td>\n      <td>0.0</td>\n      <td>0.0</td>\n      <td>0.0</td>\n    </tr>\n    <tr>\n      <th>2022-08-19</th>\n      <td>0.0</td>\n      <td>0.0</td>\n      <td>0.0</td>\n      <td>0.0</td>\n      <td>0.0</td>\n      <td>0.0</td>\n      <td>0.0</td>\n      <td>0.0</td>\n      <td>0.0</td>\n      <td>0.0</td>\n      <td>...</td>\n      <td>0.0</td>\n      <td>0.0</td>\n      <td>0.0</td>\n      <td>0.0</td>\n      <td>0.0</td>\n      <td>0.0</td>\n      <td>0.0</td>\n      <td>0.0</td>\n      <td>0.0</td>\n      <td>0.0</td>\n    </tr>\n  </tbody>\n</table>\n<p>5 rows × 3821 columns</p>\n</div>"
          },
          "metadata": {}
        }
      ],
      "execution_count": 3,
      "metadata": {
        "jupyter": {
          "source_hidden": false,
          "outputs_hidden": false
        },
        "nteract": {
          "transient": {
            "deleting": false
          }
        },
        "gather": {
          "logged": 1719141640310
        }
      }
    },
    {
      "cell_type": "code",
      "source": [
        "# Resample data to weekly by summing daily sales\n",
        "grocery_data = grocery_data.resample('W').sum()\n",
        "weather_data = weather_data.resample('W').mean()"
      ],
      "outputs": [],
      "execution_count": 4,
      "metadata": {
        "jupyter": {
          "source_hidden": false,
          "outputs_hidden": false
        },
        "nteract": {
          "transient": {
            "deleting": false
          }
        },
        "gather": {
          "logged": 1719141640756
        }
      }
    },
    {
      "cell_type": "code",
      "source": [
        "weather_data = weather_data.drop(['2022-08-07', '2022-08-14'])"
      ],
      "outputs": [],
      "execution_count": 5,
      "metadata": {
        "jupyter": {
          "source_hidden": false,
          "outputs_hidden": false
        },
        "nteract": {
          "transient": {
            "deleting": false
          }
        },
        "gather": {
          "logged": 1719141641107
        }
      }
    },
    {
      "cell_type": "code",
      "source": [
        "grocery_data.head()"
      ],
      "outputs": [
        {
          "output_type": "execute_result",
          "execution_count": 6,
          "data": {
            "text/plain": "Description  100 COFFEE FILTERS  100 GRAND  100 Grand  13 candles  14 Candles  \\\nDate                                                                            \n2022-08-21                  0.0        0.0        0.0         0.0         0.0   \n2022-08-28                  0.0        0.0        0.0         0.0         0.0   \n2022-09-04                  0.0        0.0        0.0         0.0         0.0   \n2022-09-11                  0.0        0.0        0.0         2.0         1.0   \n2022-09-18                  1.0        0.0        0.0         0.0         0.0   \n\nDescription  15 balloons  16 Candles  16 Red Solo Cups  160cups  \\\nDate                                                              \n2022-08-21           2.0         0.0               0.0      0.0   \n2022-08-28           1.0         0.0               0.0      0.0   \n2022-09-04           0.0         1.0               0.0      0.0   \n2022-09-11           0.0         0.0               0.0      2.0   \n2022-09-18           0.0         0.0               0.0      0.0   \n\nDescription  1911 Blueberry Hard Cider\\n4PK  ...  strong and soft  \\\nDate                                         ...                    \n2022-08-21                              1.0  ...              0.0   \n2022-08-28                              2.0  ...              0.0   \n2022-09-04                              0.0  ...              0.0   \n2022-09-11                              0.0  ...              0.0   \n2022-09-18                              0.0  ...              0.0   \n\nDescription  tomato soup  toothbrushes  triscuit  vo5 Conditioner  \\\nDate                                                                \n2022-08-21           0.0           0.0       1.0              0.0   \n2022-08-28           1.0           0.0       0.0              0.0   \n2022-09-04           0.0           0.0       0.0              0.0   \n2022-09-11           0.0           0.0       0.0              0.0   \n2022-09-18           1.0           0.0       0.0              0.0   \n\nDescription  vo5 extra body conditoner  vo5 moisturizing shampoo  \\\nDate                                                               \n2022-08-21                         0.0                       0.0   \n2022-08-28                         1.0                       0.0   \n2022-09-04                         0.0                       0.0   \n2022-09-11                         0.0                       0.0   \n2022-09-18                         0.0                       0.0   \n\nDescription  whole wheat bread  xtra care Hand sanitizer  zzzQuil  \nDate                                                               \n2022-08-21                 0.0                       0.0      0.0  \n2022-08-28                 0.0                       0.0      0.0  \n2022-09-04                 0.0                       0.0      0.0  \n2022-09-11                 0.0                       0.0      0.0  \n2022-09-18                 2.0                       0.0      0.0  \n\n[5 rows x 3821 columns]",
            "text/html": "<div>\n<style scoped>\n    .dataframe tbody tr th:only-of-type {\n        vertical-align: middle;\n    }\n\n    .dataframe tbody tr th {\n        vertical-align: top;\n    }\n\n    .dataframe thead th {\n        text-align: right;\n    }\n</style>\n<table border=\"1\" class=\"dataframe\">\n  <thead>\n    <tr style=\"text-align: right;\">\n      <th>Description</th>\n      <th>100 COFFEE FILTERS</th>\n      <th>100 GRAND</th>\n      <th>100 Grand</th>\n      <th>13 candles</th>\n      <th>14 Candles</th>\n      <th>15 balloons</th>\n      <th>16 Candles</th>\n      <th>16 Red Solo Cups</th>\n      <th>160cups</th>\n      <th>1911 Blueberry Hard Cider\\n4PK</th>\n      <th>...</th>\n      <th>strong and soft</th>\n      <th>tomato soup</th>\n      <th>toothbrushes</th>\n      <th>triscuit</th>\n      <th>vo5 Conditioner</th>\n      <th>vo5 extra body conditoner</th>\n      <th>vo5 moisturizing shampoo</th>\n      <th>whole wheat bread</th>\n      <th>xtra care Hand sanitizer</th>\n      <th>zzzQuil</th>\n    </tr>\n    <tr>\n      <th>Date</th>\n      <th></th>\n      <th></th>\n      <th></th>\n      <th></th>\n      <th></th>\n      <th></th>\n      <th></th>\n      <th></th>\n      <th></th>\n      <th></th>\n      <th></th>\n      <th></th>\n      <th></th>\n      <th></th>\n      <th></th>\n      <th></th>\n      <th></th>\n      <th></th>\n      <th></th>\n      <th></th>\n      <th></th>\n    </tr>\n  </thead>\n  <tbody>\n    <tr>\n      <th>2022-08-21</th>\n      <td>0.0</td>\n      <td>0.0</td>\n      <td>0.0</td>\n      <td>0.0</td>\n      <td>0.0</td>\n      <td>2.0</td>\n      <td>0.0</td>\n      <td>0.0</td>\n      <td>0.0</td>\n      <td>1.0</td>\n      <td>...</td>\n      <td>0.0</td>\n      <td>0.0</td>\n      <td>0.0</td>\n      <td>1.0</td>\n      <td>0.0</td>\n      <td>0.0</td>\n      <td>0.0</td>\n      <td>0.0</td>\n      <td>0.0</td>\n      <td>0.0</td>\n    </tr>\n    <tr>\n      <th>2022-08-28</th>\n      <td>0.0</td>\n      <td>0.0</td>\n      <td>0.0</td>\n      <td>0.0</td>\n      <td>0.0</td>\n      <td>1.0</td>\n      <td>0.0</td>\n      <td>0.0</td>\n      <td>0.0</td>\n      <td>2.0</td>\n      <td>...</td>\n      <td>0.0</td>\n      <td>1.0</td>\n      <td>0.0</td>\n      <td>0.0</td>\n      <td>0.0</td>\n      <td>1.0</td>\n      <td>0.0</td>\n      <td>0.0</td>\n      <td>0.0</td>\n      <td>0.0</td>\n    </tr>\n    <tr>\n      <th>2022-09-04</th>\n      <td>0.0</td>\n      <td>0.0</td>\n      <td>0.0</td>\n      <td>0.0</td>\n      <td>0.0</td>\n      <td>0.0</td>\n      <td>1.0</td>\n      <td>0.0</td>\n      <td>0.0</td>\n      <td>0.0</td>\n      <td>...</td>\n      <td>0.0</td>\n      <td>0.0</td>\n      <td>0.0</td>\n      <td>0.0</td>\n      <td>0.0</td>\n      <td>0.0</td>\n      <td>0.0</td>\n      <td>0.0</td>\n      <td>0.0</td>\n      <td>0.0</td>\n    </tr>\n    <tr>\n      <th>2022-09-11</th>\n      <td>0.0</td>\n      <td>0.0</td>\n      <td>0.0</td>\n      <td>2.0</td>\n      <td>1.0</td>\n      <td>0.0</td>\n      <td>0.0</td>\n      <td>0.0</td>\n      <td>2.0</td>\n      <td>0.0</td>\n      <td>...</td>\n      <td>0.0</td>\n      <td>0.0</td>\n      <td>0.0</td>\n      <td>0.0</td>\n      <td>0.0</td>\n      <td>0.0</td>\n      <td>0.0</td>\n      <td>0.0</td>\n      <td>0.0</td>\n      <td>0.0</td>\n    </tr>\n    <tr>\n      <th>2022-09-18</th>\n      <td>1.0</td>\n      <td>0.0</td>\n      <td>0.0</td>\n      <td>0.0</td>\n      <td>0.0</td>\n      <td>0.0</td>\n      <td>0.0</td>\n      <td>0.0</td>\n      <td>0.0</td>\n      <td>0.0</td>\n      <td>...</td>\n      <td>0.0</td>\n      <td>1.0</td>\n      <td>0.0</td>\n      <td>0.0</td>\n      <td>0.0</td>\n      <td>0.0</td>\n      <td>0.0</td>\n      <td>2.0</td>\n      <td>0.0</td>\n      <td>0.0</td>\n    </tr>\n  </tbody>\n</table>\n<p>5 rows × 3821 columns</p>\n</div>"
          },
          "metadata": {}
        }
      ],
      "execution_count": 6,
      "metadata": {
        "jupyter": {
          "source_hidden": false,
          "outputs_hidden": false
        },
        "nteract": {
          "transient": {
            "deleting": false
          }
        },
        "gather": {
          "logged": 1719141641526
        }
      }
    },
    {
      "cell_type": "code",
      "source": [
        "total_sales = grocery_data.sum()\n",
        "\n",
        "# Sort the total sales in ascending order\n",
        "sorted_sales = total_sales.sort_values()\n",
        "\n",
        "columns = sorted_sales[sorted_sales>=20].index.tolist()\n",
        "grocery_data=grocery_data[columns]\n",
        "grocery_data"
      ],
      "outputs": [
        {
          "output_type": "execute_result",
          "execution_count": 7,
          "data": {
            "text/plain": "Description  Orbit White Peppermint  Maruchan Roast Chicken  \\\nDate                                                          \n2022-08-21                      0.0                     0.0   \n2022-08-28                      0.0                     0.0   \n2022-09-04                      0.0                     0.0   \n2022-09-11                      0.0                     0.0   \n2022-09-18                      0.0                     0.0   \n...                             ...                     ...   \n2024-02-25                      0.0                     0.0   \n2024-03-03                      0.0                     0.0   \n2024-03-10                      0.0                     0.0   \n2024-03-17                      1.0                     0.0   \n2024-03-24                      0.0                     0.0   \n\nDescription  KESHAV TURMERIC\\nPOWDER  Angry Orchard Green Apple\\n6PK  \\\nDate                                                                   \n2022-08-21                       0.0                             0.0   \n2022-08-28                       0.0                             0.0   \n2022-09-04                       0.0                             1.0   \n2022-09-11                       0.0                             0.0   \n2022-09-18                       0.0                             0.0   \n...                              ...                             ...   \n2024-02-25                       1.0                             0.0   \n2024-03-03                       0.0                             1.0   \n2024-03-10                       0.0                             0.0   \n2024-03-17                       0.0                             0.0   \n2024-03-24                       0.0                             0.0   \n\nDescription  Four Loko Strawberry\\nLemonade  Genesee Beer 24oz  \\\nDate                                                             \n2022-08-21                              0.0                3.0   \n2022-08-28                              5.0                6.0   \n2022-09-04                              2.0                1.0   \n2022-09-11                              2.0                3.0   \n2022-09-18                              1.0                0.0   \n...                                     ...                ...   \n2024-02-25                              0.0                0.0   \n2024-03-03                              0.0                0.0   \n2024-03-10                              0.0                0.0   \n2024-03-17                              0.0                0.0   \n2024-03-24                              0.0                0.0   \n\nDescription  MILLER LITE 9PK  Cheez- It Grab n Go  Popcorners Sea Salt  \\\nDate                                                                     \n2022-08-21               0.0                  0.0                  0.0   \n2022-08-28               0.0                  0.0                  0.0   \n2022-09-04               0.0                  0.0                  0.0   \n2022-09-11               0.0                  0.0                  1.0   \n2022-09-18               0.0                  0.0                  0.0   \n...                      ...                  ...                  ...   \n2024-02-25               0.0                  0.0                  0.0   \n2024-03-03               1.0                  0.0                  0.0   \n2024-03-10               0.0                  0.0                  1.0   \n2024-03-17               0.0                  0.0                  0.0   \n2024-03-24               0.0                  1.0                  0.0   \n\nDescription  Always Classic 10 Pads  ...  Molson Ice 24oz Can  \\\nDate                                 ...                        \n2022-08-21                      0.0  ...                 32.0   \n2022-08-28                      0.0  ...                 30.0   \n2022-09-04                      0.0  ...                 25.0   \n2022-09-11                      0.0  ...                  9.0   \n2022-09-18                      0.0  ...                 14.0   \n...                             ...  ...                  ...   \n2024-02-25                      0.0  ...                 34.0   \n2024-03-03                      0.0  ...                 23.0   \n2024-03-10                      0.0  ...                 28.0   \n2024-03-17                      0.0  ...                 28.0   \n2024-03-24                      0.0  ...                  1.0   \n\nDescription  Vitamin D Whole Milk 1/2 Gallo  Coors Light 24oz  \\\nDate                                                            \n2022-08-21                             10.0              25.0   \n2022-08-28                             15.0              51.0   \n2022-09-04                             12.0              28.0   \n2022-09-11                             13.0              35.0   \n2022-09-18                             13.0              11.0   \n...                                     ...               ...   \n2024-02-25                             12.0              10.0   \n2024-03-03                             20.0               8.0   \n2024-03-10                              9.0               8.0   \n2024-03-17                             13.0               6.0   \n2024-03-24                              0.0               1.0   \n\nDescription  Goldhen Large Eggs  Fireball  Budweiser 25 OZ  Natural Ice 25oz  \\\nDate                                                                           \n2022-08-21                 12.0      39.0             47.0              63.0   \n2022-08-28                 28.0      38.0             65.0              37.0   \n2022-09-04                  8.0      32.0             38.0              44.0   \n2022-09-11                  0.0      33.0             27.0              41.0   \n2022-09-18                  7.0      42.0             24.0              31.0   \n...                         ...       ...              ...               ...   \n2024-02-25                 19.0       3.0             31.0              44.0   \n2024-03-03                 17.0       5.0             44.0              27.0   \n2024-03-10                 15.0       1.0             37.0              26.0   \n2024-03-17                 20.0       2.0             36.0              19.0   \n2024-03-24                  1.0       2.0              2.0               2.0   \n\nDescription  Milwaukees Best Ice CAN  NATTY DADDY 25OZ  GROCERY  \nDate                                                             \n2022-08-21                      37.0              62.0    638.0  \n2022-08-28                      30.0              58.0    648.0  \n2022-09-04                      27.0              34.0    707.0  \n2022-09-11                      27.0              40.0    808.0  \n2022-09-18                      14.0              35.0    737.0  \n...                              ...               ...      ...  \n2024-02-25                     108.0              68.0   1513.0  \n2024-03-03                     108.0              76.0   1460.0  \n2024-03-10                      88.0              59.0   1443.0  \n2024-03-17                     100.0              63.0   1464.0  \n2024-03-24                       7.0              11.0    180.0  \n\n[84 rows x 1267 columns]",
            "text/html": "<div>\n<style scoped>\n    .dataframe tbody tr th:only-of-type {\n        vertical-align: middle;\n    }\n\n    .dataframe tbody tr th {\n        vertical-align: top;\n    }\n\n    .dataframe thead th {\n        text-align: right;\n    }\n</style>\n<table border=\"1\" class=\"dataframe\">\n  <thead>\n    <tr style=\"text-align: right;\">\n      <th>Description</th>\n      <th>Orbit White Peppermint</th>\n      <th>Maruchan Roast Chicken</th>\n      <th>KESHAV TURMERIC\\nPOWDER</th>\n      <th>Angry Orchard Green Apple\\n6PK</th>\n      <th>Four Loko Strawberry\\nLemonade</th>\n      <th>Genesee Beer 24oz</th>\n      <th>MILLER LITE 9PK</th>\n      <th>Cheez- It Grab n Go</th>\n      <th>Popcorners Sea Salt</th>\n      <th>Always Classic 10 Pads</th>\n      <th>...</th>\n      <th>Molson Ice 24oz Can</th>\n      <th>Vitamin D Whole Milk 1/2 Gallo</th>\n      <th>Coors Light 24oz</th>\n      <th>Goldhen Large Eggs</th>\n      <th>Fireball</th>\n      <th>Budweiser 25 OZ</th>\n      <th>Natural Ice 25oz</th>\n      <th>Milwaukees Best Ice CAN</th>\n      <th>NATTY DADDY 25OZ</th>\n      <th>GROCERY</th>\n    </tr>\n    <tr>\n      <th>Date</th>\n      <th></th>\n      <th></th>\n      <th></th>\n      <th></th>\n      <th></th>\n      <th></th>\n      <th></th>\n      <th></th>\n      <th></th>\n      <th></th>\n      <th></th>\n      <th></th>\n      <th></th>\n      <th></th>\n      <th></th>\n      <th></th>\n      <th></th>\n      <th></th>\n      <th></th>\n      <th></th>\n      <th></th>\n    </tr>\n  </thead>\n  <tbody>\n    <tr>\n      <th>2022-08-21</th>\n      <td>0.0</td>\n      <td>0.0</td>\n      <td>0.0</td>\n      <td>0.0</td>\n      <td>0.0</td>\n      <td>3.0</td>\n      <td>0.0</td>\n      <td>0.0</td>\n      <td>0.0</td>\n      <td>0.0</td>\n      <td>...</td>\n      <td>32.0</td>\n      <td>10.0</td>\n      <td>25.0</td>\n      <td>12.0</td>\n      <td>39.0</td>\n      <td>47.0</td>\n      <td>63.0</td>\n      <td>37.0</td>\n      <td>62.0</td>\n      <td>638.0</td>\n    </tr>\n    <tr>\n      <th>2022-08-28</th>\n      <td>0.0</td>\n      <td>0.0</td>\n      <td>0.0</td>\n      <td>0.0</td>\n      <td>5.0</td>\n      <td>6.0</td>\n      <td>0.0</td>\n      <td>0.0</td>\n      <td>0.0</td>\n      <td>0.0</td>\n      <td>...</td>\n      <td>30.0</td>\n      <td>15.0</td>\n      <td>51.0</td>\n      <td>28.0</td>\n      <td>38.0</td>\n      <td>65.0</td>\n      <td>37.0</td>\n      <td>30.0</td>\n      <td>58.0</td>\n      <td>648.0</td>\n    </tr>\n    <tr>\n      <th>2022-09-04</th>\n      <td>0.0</td>\n      <td>0.0</td>\n      <td>0.0</td>\n      <td>1.0</td>\n      <td>2.0</td>\n      <td>1.0</td>\n      <td>0.0</td>\n      <td>0.0</td>\n      <td>0.0</td>\n      <td>0.0</td>\n      <td>...</td>\n      <td>25.0</td>\n      <td>12.0</td>\n      <td>28.0</td>\n      <td>8.0</td>\n      <td>32.0</td>\n      <td>38.0</td>\n      <td>44.0</td>\n      <td>27.0</td>\n      <td>34.0</td>\n      <td>707.0</td>\n    </tr>\n    <tr>\n      <th>2022-09-11</th>\n      <td>0.0</td>\n      <td>0.0</td>\n      <td>0.0</td>\n      <td>0.0</td>\n      <td>2.0</td>\n      <td>3.0</td>\n      <td>0.0</td>\n      <td>0.0</td>\n      <td>1.0</td>\n      <td>0.0</td>\n      <td>...</td>\n      <td>9.0</td>\n      <td>13.0</td>\n      <td>35.0</td>\n      <td>0.0</td>\n      <td>33.0</td>\n      <td>27.0</td>\n      <td>41.0</td>\n      <td>27.0</td>\n      <td>40.0</td>\n      <td>808.0</td>\n    </tr>\n    <tr>\n      <th>2022-09-18</th>\n      <td>0.0</td>\n      <td>0.0</td>\n      <td>0.0</td>\n      <td>0.0</td>\n      <td>1.0</td>\n      <td>0.0</td>\n      <td>0.0</td>\n      <td>0.0</td>\n      <td>0.0</td>\n      <td>0.0</td>\n      <td>...</td>\n      <td>14.0</td>\n      <td>13.0</td>\n      <td>11.0</td>\n      <td>7.0</td>\n      <td>42.0</td>\n      <td>24.0</td>\n      <td>31.0</td>\n      <td>14.0</td>\n      <td>35.0</td>\n      <td>737.0</td>\n    </tr>\n    <tr>\n      <th>...</th>\n      <td>...</td>\n      <td>...</td>\n      <td>...</td>\n      <td>...</td>\n      <td>...</td>\n      <td>...</td>\n      <td>...</td>\n      <td>...</td>\n      <td>...</td>\n      <td>...</td>\n      <td>...</td>\n      <td>...</td>\n      <td>...</td>\n      <td>...</td>\n      <td>...</td>\n      <td>...</td>\n      <td>...</td>\n      <td>...</td>\n      <td>...</td>\n      <td>...</td>\n      <td>...</td>\n    </tr>\n    <tr>\n      <th>2024-02-25</th>\n      <td>0.0</td>\n      <td>0.0</td>\n      <td>1.0</td>\n      <td>0.0</td>\n      <td>0.0</td>\n      <td>0.0</td>\n      <td>0.0</td>\n      <td>0.0</td>\n      <td>0.0</td>\n      <td>0.0</td>\n      <td>...</td>\n      <td>34.0</td>\n      <td>12.0</td>\n      <td>10.0</td>\n      <td>19.0</td>\n      <td>3.0</td>\n      <td>31.0</td>\n      <td>44.0</td>\n      <td>108.0</td>\n      <td>68.0</td>\n      <td>1513.0</td>\n    </tr>\n    <tr>\n      <th>2024-03-03</th>\n      <td>0.0</td>\n      <td>0.0</td>\n      <td>0.0</td>\n      <td>1.0</td>\n      <td>0.0</td>\n      <td>0.0</td>\n      <td>1.0</td>\n      <td>0.0</td>\n      <td>0.0</td>\n      <td>0.0</td>\n      <td>...</td>\n      <td>23.0</td>\n      <td>20.0</td>\n      <td>8.0</td>\n      <td>17.0</td>\n      <td>5.0</td>\n      <td>44.0</td>\n      <td>27.0</td>\n      <td>108.0</td>\n      <td>76.0</td>\n      <td>1460.0</td>\n    </tr>\n    <tr>\n      <th>2024-03-10</th>\n      <td>0.0</td>\n      <td>0.0</td>\n      <td>0.0</td>\n      <td>0.0</td>\n      <td>0.0</td>\n      <td>0.0</td>\n      <td>0.0</td>\n      <td>0.0</td>\n      <td>1.0</td>\n      <td>0.0</td>\n      <td>...</td>\n      <td>28.0</td>\n      <td>9.0</td>\n      <td>8.0</td>\n      <td>15.0</td>\n      <td>1.0</td>\n      <td>37.0</td>\n      <td>26.0</td>\n      <td>88.0</td>\n      <td>59.0</td>\n      <td>1443.0</td>\n    </tr>\n    <tr>\n      <th>2024-03-17</th>\n      <td>1.0</td>\n      <td>0.0</td>\n      <td>0.0</td>\n      <td>0.0</td>\n      <td>0.0</td>\n      <td>0.0</td>\n      <td>0.0</td>\n      <td>0.0</td>\n      <td>0.0</td>\n      <td>0.0</td>\n      <td>...</td>\n      <td>28.0</td>\n      <td>13.0</td>\n      <td>6.0</td>\n      <td>20.0</td>\n      <td>2.0</td>\n      <td>36.0</td>\n      <td>19.0</td>\n      <td>100.0</td>\n      <td>63.0</td>\n      <td>1464.0</td>\n    </tr>\n    <tr>\n      <th>2024-03-24</th>\n      <td>0.0</td>\n      <td>0.0</td>\n      <td>0.0</td>\n      <td>0.0</td>\n      <td>0.0</td>\n      <td>0.0</td>\n      <td>0.0</td>\n      <td>1.0</td>\n      <td>0.0</td>\n      <td>0.0</td>\n      <td>...</td>\n      <td>1.0</td>\n      <td>0.0</td>\n      <td>1.0</td>\n      <td>1.0</td>\n      <td>2.0</td>\n      <td>2.0</td>\n      <td>2.0</td>\n      <td>7.0</td>\n      <td>11.0</td>\n      <td>180.0</td>\n    </tr>\n  </tbody>\n</table>\n<p>84 rows × 1267 columns</p>\n</div>"
          },
          "metadata": {}
        }
      ],
      "execution_count": 7,
      "metadata": {
        "jupyter": {
          "source_hidden": false,
          "outputs_hidden": false
        },
        "nteract": {
          "transient": {
            "deleting": false
          }
        },
        "gather": {
          "logged": 1719141641874
        }
      }
    },
    {
      "cell_type": "code",
      "source": [
        "grocery_columns = grocery_data.columns\n",
        "weather_columns = weather_data.columns"
      ],
      "outputs": [],
      "execution_count": 8,
      "metadata": {
        "jupyter": {
          "source_hidden": false,
          "outputs_hidden": false
        },
        "nteract": {
          "transient": {
            "deleting": false
          }
        },
        "gather": {
          "logged": 1719141642187
        }
      }
    },
    {
      "cell_type": "code",
      "source": [
        "# Normalize/scale both datasets (if not already done)\n",
        "from sklearn.preprocessing import MinMaxScaler\n",
        "\n",
        "scaler_grocery = MinMaxScaler()\n",
        "sales_data_scaled = scaler_grocery.fit_transform(grocery_data)\n",
        "\n",
        "scaler_weather = MinMaxScaler()\n",
        "weather_data_scaled = scaler_weather.fit_transform(weather_data)\n",
        "\n",
        "# Combine scaled data back into a single DataFrame for sequence creation\n",
        "grocery_data_scaled = pd.concat([pd.DataFrame(sales_data_scaled, index=grocery_data.index, columns=grocery_columns),\n",
        "                               pd.DataFrame(weather_data_scaled, index=weather_data.index, columns=weather_columns)], axis=1)"
      ],
      "outputs": [],
      "execution_count": 9,
      "metadata": {
        "jupyter": {
          "source_hidden": false,
          "outputs_hidden": false
        },
        "nteract": {
          "transient": {
            "deleting": false
          }
        },
        "gather": {
          "logged": 1719141642568
        }
      }
    },
    {
      "cell_type": "markdown",
      "source": [
        "### Add Holidays column"
      ],
      "metadata": {
        "nteract": {
          "transient": {
            "deleting": false
          }
        }
      }
    },
    {
      "cell_type": "code",
      "source": [
        "holidays = [\n",
        "    '2022-09-05', '2022-10-10',\n",
        "    '2022-11-11', '2022-11-24',\n",
        "    '2022-12-25', '2023-01-01', \n",
        "    '2023-01-16', '2023-02-20',\n",
        "    '2023-05-29', '2023-06-19',\n",
        "    '2023-07-04', '2023-09-04',\n",
        "    '2023-10-09', '2023-11-11', \n",
        "    '2023-11-23', '2023-12-25',\n",
        "    '2024-01-01', '2024-01-15',\n",
        "    '2024-02-19',\n",
        "]\n",
        "\n",
        "holiday_dates = pd.to_datetime(pd.Series(holidays))\n",
        "\n",
        "# Initialize a list to store the holiday flags\n",
        "holiday_flags = []\n",
        "\n",
        "# Iterate over the dates in the grocery dataset\n",
        "for date in grocery_data_scaled.index:\n",
        "    # Get the start and end of the week containing the current date\n",
        "    week_start = date - timedelta(days=date.weekday())\n",
        "    week_end = week_start + timedelta(days=6)\n",
        "    \n",
        "    # Check if any holiday falls in the current week\n",
        "    if any(week_start <= holiday <= week_end for holiday in holiday_dates):\n",
        "        holiday_flags.append(1)\n",
        "    else:\n",
        "        holiday_flags.append(0)\n",
        "\n",
        "# Add the holiday flags to the grocery dataset\n",
        "grocery_data_scaled['holidays'] = holiday_flags"
      ],
      "outputs": [],
      "execution_count": 10,
      "metadata": {
        "jupyter": {
          "source_hidden": false,
          "outputs_hidden": false
        },
        "nteract": {
          "transient": {
            "deleting": false
          }
        },
        "gather": {
          "logged": 1719141642819
        }
      }
    },
    {
      "cell_type": "markdown",
      "source": [
        "### Getting Sequences"
      ],
      "metadata": {
        "nteract": {
          "transient": {
            "deleting": false
          }
        }
      }
    },
    {
      "cell_type": "code",
      "source": [
        "import numpy as np\n",
        "\n",
        "# Convert to numpy array if it's not already one\n",
        "if not isinstance(grocery_data_scaled, np.ndarray):\n",
        "    grocery_data_scaled = np.array(grocery_data_scaled)\n",
        "\n",
        "# Print the shape of the array\n",
        "print(\"Shape of grocery_data_scaled:\", grocery_data_scaled.shape)\n",
        "\n",
        "# Define parameters\n",
        "n_future = 1\n",
        "n_past = 8\n",
        "\n",
        "# Initialize lists to hold the training data\n",
        "trainX = []\n",
        "trainY = []\n",
        "\n",
        "# Loop through the dataset to construct the training data\n",
        "for i in range(n_past, len(grocery_data_scaled) - n_future + 1):\n",
        "    x_start = i - n_past\n",
        "    x_end = i\n",
        "    y_index = i + n_future - 1\n",
        "    \n",
        "    try:\n",
        "        # Slice the data for the current window\n",
        "        x = grocery_data_scaled[x_start:x_end, :]  # shape should be (n_past, 1273)\n",
        "        y = grocery_data_scaled[y_index, :1267]    # shape should be (1267,)\n",
        "\n",
        "        # Append the sliced data to the lists\n",
        "        trainX.append(x)\n",
        "        trainY.append(y)\n",
        "    except Exception as e:\n",
        "        print(f\"Error encountered: {e}\")\n",
        "        break\n",
        "\n",
        "# Convert lists to numpy arrays\n",
        "trainX = np.array(trainX)\n",
        "trainY = np.array(trainY)\n",
        "\n",
        "# Print the final shapes of trainX and trainY\n",
        "print(\"trainX shape:\", trainX.shape)\n",
        "print(\"trainY shape:\", trainY.shape)"
      ],
      "outputs": [
        {
          "output_type": "stream",
          "name": "stdout",
          "text": "Shape of grocery_data_scaled: (84, 1273)\ntrainX shape: (76, 8, 1273)\ntrainY shape: (76, 1267)\n"
        }
      ],
      "execution_count": 29,
      "metadata": {
        "jupyter": {
          "source_hidden": false,
          "outputs_hidden": false
        },
        "nteract": {
          "transient": {
            "deleting": false
          }
        },
        "gather": {
          "logged": 1719143799611
        }
      }
    },
    {
      "cell_type": "markdown",
      "source": [
        "### Model Building"
      ],
      "metadata": {
        "nteract": {
          "transient": {
            "deleting": false
          }
        }
      }
    },
    {
      "cell_type": "code",
      "source": [
        "# Define split sizes\n",
        "train_size = int(0.6 * len(trainX))\n",
        "val_size = int(0.2 * len(trainX))\n",
        "test_size = len(trainX) - train_size - val_size\n",
        "\n",
        "# Split the data\n",
        "trainX_train = trainX[:train_size]\n",
        "trainY_train = trainY[:train_size]\n",
        "\n",
        "trainX_val = trainX[train_size:train_size + val_size]\n",
        "trainY_val = trainY[train_size:train_size + val_size]\n",
        "\n",
        "trainX_test = trainX[train_size + val_size:]\n",
        "trainY_test = trainY[train_size + val_size:]\n",
        "\n",
        "print(\"Train set shapes:\", trainX_train.shape, trainY_train.shape)\n",
        "print(\"Validation set shapes:\", trainX_val.shape, trainY_val.shape)\n",
        "print(\"Test set shapes:\", trainX_test.shape, trainY_test.shape)"
      ],
      "outputs": [
        {
          "output_type": "stream",
          "name": "stdout",
          "text": "Train set shapes: (45, 8, 1273) (45, 1267)\nValidation set shapes: (15, 8, 1273) (15, 1267)\nTest set shapes: (16, 8, 1273) (16, 1267)\n"
        }
      ],
      "execution_count": 35,
      "metadata": {
        "jupyter": {
          "source_hidden": false,
          "outputs_hidden": false
        },
        "nteract": {
          "transient": {
            "deleting": false
          }
        },
        "gather": {
          "logged": 1719153910280
        }
      }
    },
    {
      "cell_type": "code",
      "source": [
        "from tensorflow.keras.models import Sequential\n",
        "from tensorflow.keras.layers import LSTM, Conv1D, MaxPooling1D, Flatten, Dense, Dropout\n",
        "\n",
        "# Define constants for the model\n",
        "n_past = 8\n",
        "n_features = 1273\n",
        "n_grocery_items = 1267\n",
        "\n",
        "# Build the model\n",
        "model = Sequential()\n",
        "\n",
        "# First LSTM layer with return_sequences=True to pass the sequence to the next layer\n",
        "model.add(LSTM(64, activation='relu', input_shape=(n_past, n_features), return_sequences=True))\n",
        "\n",
        "# Second LSTM layer with return_sequences=True for CNN processing\n",
        "model.add(LSTM(32, activation='relu', return_sequences=True))\n",
        "\n",
        "# Adding a Conv1D layer for feature extraction from sequences\n",
        "model.add(Conv1D(filters=64, kernel_size=3, activation='relu', padding='same'))\n",
        "model.add(MaxPooling1D(pool_size=2))\n",
        "model.add(Flatten())\n",
        "\n",
        "# Adding a Dense layer\n",
        "model.add(Dense(128, activation='relu'))\n",
        "model.add(Dropout(0.2))\n",
        "\n",
        "# Adding a Dense layer for final prediction\n",
        "model.add(Dense(n_grocery_items))\n",
        "\n",
        "# Compile the model\n",
        "model.compile(optimizer='adam', loss='mse', metrics=['mae'])\n",
        "\n",
        "# Print the model summary\n",
        "model.summary()"
      ],
      "outputs": [
        {
          "output_type": "stream",
          "name": "stderr",
          "text": "/anaconda/envs/azureml_py310_sdkv2/lib/python3.10/site-packages/keras/src/layers/rnn/rnn.py:204: UserWarning: Do not pass an `input_shape`/`input_dim` argument to a layer. When using Sequential models, prefer using an `Input(shape)` object as the first layer in the model instead.\n  super().__init__(**kwargs)\n"
        },
        {
          "output_type": "display_data",
          "data": {
            "text/plain": "\u001b[1mModel: \"sequential_4\"\u001b[0m\n",
            "text/html": "<pre style=\"white-space:pre;overflow-x:auto;line-height:normal;font-family:Menlo,'DejaVu Sans Mono',consolas,'Courier New',monospace\"><span style=\"font-weight: bold\">Model: \"sequential_4\"</span>\n</pre>\n"
          },
          "metadata": {}
        },
        {
          "output_type": "display_data",
          "data": {
            "text/plain": "┏━━━━━━━━━━━━━━━━━━━━━━━━━━━━━━━━━┳━━━━━━━━━━━━━━━━━━━━━━━━┳━━━━━━━━━━━━━━━┓\n┃\u001b[1m \u001b[0m\u001b[1mLayer (type)                   \u001b[0m\u001b[1m \u001b[0m┃\u001b[1m \u001b[0m\u001b[1mOutput Shape          \u001b[0m\u001b[1m \u001b[0m┃\u001b[1m \u001b[0m\u001b[1m      Param #\u001b[0m\u001b[1m \u001b[0m┃\n┡━━━━━━━━━━━━━━━━━━━━━━━━━━━━━━━━━╇━━━━━━━━━━━━━━━━━━━━━━━━╇━━━━━━━━━━━━━━━┩\n│ lstm_9 (\u001b[38;5;33mLSTM\u001b[0m)                   │ (\u001b[38;5;45mNone\u001b[0m, \u001b[38;5;34m8\u001b[0m, \u001b[38;5;34m64\u001b[0m)          │       \u001b[38;5;34m342,528\u001b[0m │\n├─────────────────────────────────┼────────────────────────┼───────────────┤\n│ lstm_10 (\u001b[38;5;33mLSTM\u001b[0m)                  │ (\u001b[38;5;45mNone\u001b[0m, \u001b[38;5;34m8\u001b[0m, \u001b[38;5;34m32\u001b[0m)          │        \u001b[38;5;34m12,416\u001b[0m │\n├─────────────────────────────────┼────────────────────────┼───────────────┤\n│ conv1d_4 (\u001b[38;5;33mConv1D\u001b[0m)               │ (\u001b[38;5;45mNone\u001b[0m, \u001b[38;5;34m8\u001b[0m, \u001b[38;5;34m64\u001b[0m)          │         \u001b[38;5;34m6,208\u001b[0m │\n├─────────────────────────────────┼────────────────────────┼───────────────┤\n│ max_pooling1d_1 (\u001b[38;5;33mMaxPooling1D\u001b[0m)  │ (\u001b[38;5;45mNone\u001b[0m, \u001b[38;5;34m4\u001b[0m, \u001b[38;5;34m64\u001b[0m)          │             \u001b[38;5;34m0\u001b[0m │\n├─────────────────────────────────┼────────────────────────┼───────────────┤\n│ flatten_1 (\u001b[38;5;33mFlatten\u001b[0m)             │ (\u001b[38;5;45mNone\u001b[0m, \u001b[38;5;34m256\u001b[0m)            │             \u001b[38;5;34m0\u001b[0m │\n├─────────────────────────────────┼────────────────────────┼───────────────┤\n│ dense_3 (\u001b[38;5;33mDense\u001b[0m)                 │ (\u001b[38;5;45mNone\u001b[0m, \u001b[38;5;34m128\u001b[0m)            │        \u001b[38;5;34m32,896\u001b[0m │\n├─────────────────────────────────┼────────────────────────┼───────────────┤\n│ dropout_2 (\u001b[38;5;33mDropout\u001b[0m)             │ (\u001b[38;5;45mNone\u001b[0m, \u001b[38;5;34m128\u001b[0m)            │             \u001b[38;5;34m0\u001b[0m │\n├─────────────────────────────────┼────────────────────────┼───────────────┤\n│ dense_4 (\u001b[38;5;33mDense\u001b[0m)                 │ (\u001b[38;5;45mNone\u001b[0m, \u001b[38;5;34m1267\u001b[0m)           │       \u001b[38;5;34m163,443\u001b[0m │\n└─────────────────────────────────┴────────────────────────┴───────────────┘\n",
            "text/html": "<pre style=\"white-space:pre;overflow-x:auto;line-height:normal;font-family:Menlo,'DejaVu Sans Mono',consolas,'Courier New',monospace\">┏━━━━━━━━━━━━━━━━━━━━━━━━━━━━━━━━━┳━━━━━━━━━━━━━━━━━━━━━━━━┳━━━━━━━━━━━━━━━┓\n┃<span style=\"font-weight: bold\"> Layer (type)                    </span>┃<span style=\"font-weight: bold\"> Output Shape           </span>┃<span style=\"font-weight: bold\">       Param # </span>┃\n┡━━━━━━━━━━━━━━━━━━━━━━━━━━━━━━━━━╇━━━━━━━━━━━━━━━━━━━━━━━━╇━━━━━━━━━━━━━━━┩\n│ lstm_9 (<span style=\"color: #0087ff; text-decoration-color: #0087ff\">LSTM</span>)                   │ (<span style=\"color: #00d7ff; text-decoration-color: #00d7ff\">None</span>, <span style=\"color: #00af00; text-decoration-color: #00af00\">8</span>, <span style=\"color: #00af00; text-decoration-color: #00af00\">64</span>)          │       <span style=\"color: #00af00; text-decoration-color: #00af00\">342,528</span> │\n├─────────────────────────────────┼────────────────────────┼───────────────┤\n│ lstm_10 (<span style=\"color: #0087ff; text-decoration-color: #0087ff\">LSTM</span>)                  │ (<span style=\"color: #00d7ff; text-decoration-color: #00d7ff\">None</span>, <span style=\"color: #00af00; text-decoration-color: #00af00\">8</span>, <span style=\"color: #00af00; text-decoration-color: #00af00\">32</span>)          │        <span style=\"color: #00af00; text-decoration-color: #00af00\">12,416</span> │\n├─────────────────────────────────┼────────────────────────┼───────────────┤\n│ conv1d_4 (<span style=\"color: #0087ff; text-decoration-color: #0087ff\">Conv1D</span>)               │ (<span style=\"color: #00d7ff; text-decoration-color: #00d7ff\">None</span>, <span style=\"color: #00af00; text-decoration-color: #00af00\">8</span>, <span style=\"color: #00af00; text-decoration-color: #00af00\">64</span>)          │         <span style=\"color: #00af00; text-decoration-color: #00af00\">6,208</span> │\n├─────────────────────────────────┼────────────────────────┼───────────────┤\n│ max_pooling1d_1 (<span style=\"color: #0087ff; text-decoration-color: #0087ff\">MaxPooling1D</span>)  │ (<span style=\"color: #00d7ff; text-decoration-color: #00d7ff\">None</span>, <span style=\"color: #00af00; text-decoration-color: #00af00\">4</span>, <span style=\"color: #00af00; text-decoration-color: #00af00\">64</span>)          │             <span style=\"color: #00af00; text-decoration-color: #00af00\">0</span> │\n├─────────────────────────────────┼────────────────────────┼───────────────┤\n│ flatten_1 (<span style=\"color: #0087ff; text-decoration-color: #0087ff\">Flatten</span>)             │ (<span style=\"color: #00d7ff; text-decoration-color: #00d7ff\">None</span>, <span style=\"color: #00af00; text-decoration-color: #00af00\">256</span>)            │             <span style=\"color: #00af00; text-decoration-color: #00af00\">0</span> │\n├─────────────────────────────────┼────────────────────────┼───────────────┤\n│ dense_3 (<span style=\"color: #0087ff; text-decoration-color: #0087ff\">Dense</span>)                 │ (<span style=\"color: #00d7ff; text-decoration-color: #00d7ff\">None</span>, <span style=\"color: #00af00; text-decoration-color: #00af00\">128</span>)            │        <span style=\"color: #00af00; text-decoration-color: #00af00\">32,896</span> │\n├─────────────────────────────────┼────────────────────────┼───────────────┤\n│ dropout_2 (<span style=\"color: #0087ff; text-decoration-color: #0087ff\">Dropout</span>)             │ (<span style=\"color: #00d7ff; text-decoration-color: #00d7ff\">None</span>, <span style=\"color: #00af00; text-decoration-color: #00af00\">128</span>)            │             <span style=\"color: #00af00; text-decoration-color: #00af00\">0</span> │\n├─────────────────────────────────┼────────────────────────┼───────────────┤\n│ dense_4 (<span style=\"color: #0087ff; text-decoration-color: #0087ff\">Dense</span>)                 │ (<span style=\"color: #00d7ff; text-decoration-color: #00d7ff\">None</span>, <span style=\"color: #00af00; text-decoration-color: #00af00\">1267</span>)           │       <span style=\"color: #00af00; text-decoration-color: #00af00\">163,443</span> │\n└─────────────────────────────────┴────────────────────────┴───────────────┘\n</pre>\n"
          },
          "metadata": {}
        },
        {
          "output_type": "display_data",
          "data": {
            "text/plain": "\u001b[1m Total params: \u001b[0m\u001b[38;5;34m557,491\u001b[0m (2.13 MB)\n",
            "text/html": "<pre style=\"white-space:pre;overflow-x:auto;line-height:normal;font-family:Menlo,'DejaVu Sans Mono',consolas,'Courier New',monospace\"><span style=\"font-weight: bold\"> Total params: </span><span style=\"color: #00af00; text-decoration-color: #00af00\">557,491</span> (2.13 MB)\n</pre>\n"
          },
          "metadata": {}
        },
        {
          "output_type": "display_data",
          "data": {
            "text/plain": "\u001b[1m Trainable params: \u001b[0m\u001b[38;5;34m557,491\u001b[0m (2.13 MB)\n",
            "text/html": "<pre style=\"white-space:pre;overflow-x:auto;line-height:normal;font-family:Menlo,'DejaVu Sans Mono',consolas,'Courier New',monospace\"><span style=\"font-weight: bold\"> Trainable params: </span><span style=\"color: #00af00; text-decoration-color: #00af00\">557,491</span> (2.13 MB)\n</pre>\n"
          },
          "metadata": {}
        },
        {
          "output_type": "display_data",
          "data": {
            "text/plain": "\u001b[1m Non-trainable params: \u001b[0m\u001b[38;5;34m0\u001b[0m (0.00 B)\n",
            "text/html": "<pre style=\"white-space:pre;overflow-x:auto;line-height:normal;font-family:Menlo,'DejaVu Sans Mono',consolas,'Courier New',monospace\"><span style=\"font-weight: bold\"> Non-trainable params: </span><span style=\"color: #00af00; text-decoration-color: #00af00\">0</span> (0.00 B)\n</pre>\n"
          },
          "metadata": {}
        }
      ],
      "execution_count": 37,
      "metadata": {
        "jupyter": {
          "source_hidden": false,
          "outputs_hidden": false
        },
        "nteract": {
          "transient": {
            "deleting": false
          }
        },
        "gather": {
          "logged": 1719154117269
        }
      }
    },
    {
      "cell_type": "code",
      "source": [
        "# Train the model\n",
        "history = model.fit(trainX_train, trainY_train, epochs=50, batch_size=16, validation_data=(trainX_val, trainY_val))"
      ],
      "outputs": [
        {
          "output_type": "stream",
          "name": "stdout",
          "text": "Epoch 1/50\n\u001b[1m3/3\u001b[0m \u001b[32m━━━━━━━━━━━━━━━━━━━━\u001b[0m\u001b[37m\u001b[0m \u001b[1m3s\u001b[0m 201ms/step - loss: 0.0743 - mae: 0.1504 - val_loss: 0.0640 - val_mae: 0.1394\b\b\b\b\b\b\b\b\b\b\b\b\b\b\b\b\b\b\b\b\b\b\b\b\nEpoch 2/50\n\u001b[1m3/3\u001b[0m \u001b[32m━━━━━━━━━━━━━━━━━━━━\u001b[0m\u001b[37m\u001b[0m \u001b[1m0s\u001b[0m 22ms/step - loss: 0.0692 - mae: 0.1586 - val_loss: 0.0587 - val_mae: 0.1482\b\b\b\b\b\b\b\b\b\b\b\b\b\b\b\b\b\b\b\b\b\b\b\b\b\b\b\b\b\nEpoch 3/50\n\u001b[1m3/3\u001b[0m \u001b[32m━━━━━━━━━━━━━━━━━━━━\u001b[0m\u001b[37m\u001b[0m \u001b[1m0s\u001b[0m 21ms/step - loss: 0.0644 - mae: 0.1656 - val_loss: 0.0541 - val_mae: 0.1528\b\b\b\b\b\b\b\b\b\b\b\b\b\b\b\b\b\b\b\b\b\b\b\b\b\b\b\b\b\nEpoch 4/50\n\u001b[1m3/3\u001b[0m \u001b[32m━━━━━━━━━━━━━━━━━━━━\u001b[0m\u001b[37m\u001b[0m \u001b[1m0s\u001b[0m 21ms/step - loss: 0.0570 - mae: 0.1667 - val_loss: 0.0510 - val_mae: 0.1563\b\b\b\b\b\b\b\b\b\b\b\b\b\b\b\b\b\b\b\b\b\b\b\b\b\b\b\b\b\nEpoch 5/50\n\u001b[1m3/3\u001b[0m \u001b[32m━━━━━━━━━━━━━━━━━━━━\u001b[0m\u001b[37m\u001b[0m \u001b[1m0s\u001b[0m 21ms/step - loss: 0.0527 - mae: 0.1646 - val_loss: 0.0499 - val_mae: 0.1573\b\b\b\b\b\b\b\b\b\b\b\b\b\b\b\b\b\b\b\b\b\b\b\b\b\b\b\b\b\nEpoch 6/50\n\u001b[1m3/3\u001b[0m \u001b[32m━━━━━━━━━━━━━━━━━━━━\u001b[0m\u001b[37m\u001b[0m \u001b[1m0s\u001b[0m 21ms/step - loss: 0.0506 - mae: 0.1634 - val_loss: 0.0496 - val_mae: 0.1573\b\b\b\b\b\b\b\b\b\b\b\b\b\b\b\b\b\b\b\b\b\b\b\b\b\b\b\b\b\nEpoch 7/50\n\u001b[1m3/3\u001b[0m \u001b[32m━━━━━━━━━━━━━━━━━━━━\u001b[0m\u001b[37m\u001b[0m \u001b[1m0s\u001b[0m 21ms/step - loss: 0.0497 - mae: 0.1622 - val_loss: 0.0494 - val_mae: 0.1585\b\b\b\b\b\b\b\b\b\b\b\b\b\b\b\b\b\b\b\b\b\b\b\b\b\b\b\b\b\nEpoch 8/50\n\u001b[1m3/3\u001b[0m \u001b[32m━━━━━━━━━━━━━━━━━━━━\u001b[0m\u001b[37m\u001b[0m \u001b[1m0s\u001b[0m 23ms/step - loss: 0.0489 - mae: 0.1610 - val_loss: 0.0494 - val_mae: 0.1605\b\b\b\b\b\b\b\b\b\b\b\b\b\b\b\b\b\b\b\b\b\b\b\b\b\b\b\b\b\nEpoch 9/50\n\u001b[1m3/3\u001b[0m \u001b[32m━━━━━━━━━━━━━━━━━━━━\u001b[0m\u001b[37m\u001b[0m \u001b[1m0s\u001b[0m 21ms/step - loss: 0.0482 - mae: 0.1609 - val_loss: 0.0492 - val_mae: 0.1597\b\b\b\b\b\b\b\b\b\b\b\b\b\b\b\b\b\b\b\b\b\b\b\b\b\b\b\b\b\nEpoch 10/50\n\u001b[1m3/3\u001b[0m \u001b[32m━━━━━━━━━━━━━━━━━━━━\u001b[0m\u001b[37m\u001b[0m \u001b[1m0s\u001b[0m 21ms/step - loss: 0.0483 - mae: 0.1591 - val_loss: 0.0491 - val_mae: 0.1611\b\b\b\b\b\b\b\b\b\b\b\b\b\b\b\b\b\b\b\b\b\b\b\b\b\b\b\b\b\nEpoch 11/50\n\u001b[1m3/3\u001b[0m \u001b[32m━━━━━━━━━━━━━━━━━━━━\u001b[0m\u001b[37m\u001b[0m \u001b[1m0s\u001b[0m 21ms/step - loss: 0.0484 - mae: 0.1616 - val_loss: 0.0489 - val_mae: 0.1563\b\b\b\b\b\b\b\b\b\b\b\b\b\b\b\b\b\b\b\b\b\b\b\b\b\b\b\b\b\nEpoch 12/50\n\u001b[1m3/3\u001b[0m \u001b[32m━━━━━━━━━━━━━━━━━━━━\u001b[0m\u001b[37m\u001b[0m \u001b[1m0s\u001b[0m 21ms/step - loss: 0.0464 - mae: 0.1543 - val_loss: 0.0487 - val_mae: 0.1602\b\b\b\b\b\b\b\b\b\b\b\b\b\b\b\b\b\b\b\b\b\b\b\b\b\b\b\b\b\nEpoch 13/50\n\u001b[1m3/3\u001b[0m \u001b[32m━━━━━━━━━━━━━━━━━━━━\u001b[0m\u001b[37m\u001b[0m \u001b[1m0s\u001b[0m 20ms/step - loss: 0.0459 - mae: 0.1578 - val_loss: 0.0485 - val_mae: 0.1562\b\b\b\b\b\b\b\b\b\b\b\b\b\b\b\b\b\b\b\b\b\b\b\b\b\b\b\b\b\nEpoch 14/50\n\u001b[1m3/3\u001b[0m \u001b[32m━━━━━━━━━━━━━━━━━━━━\u001b[0m\u001b[37m\u001b[0m \u001b[1m0s\u001b[0m 21ms/step - loss: 0.0448 - mae: 0.1521 - val_loss: 0.0485 - val_mae: 0.1560\b\b\b\b\b\b\b\b\b\b\b\b\b\b\b\b\b\b\b\b\b\b\b\b\b\b\b\b\b\nEpoch 15/50\n\u001b[1m3/3\u001b[0m \u001b[32m━━━━━━━━━━━━━━━━━━━━\u001b[0m\u001b[37m\u001b[0m \u001b[1m0s\u001b[0m 21ms/step - loss: 0.0448 - mae: 0.1538 - val_loss: 0.0486 - val_mae: 0.1527\b\b\b\b\b\b\b\b\b\b\b\b\b\b\b\b\b\b\b\b\b\b\b\b\b\b\b\b\b\nEpoch 16/50\n\u001b[1m3/3\u001b[0m \u001b[32m━━━━━━━━━━━━━━━━━━━━\u001b[0m\u001b[37m\u001b[0m \u001b[1m0s\u001b[0m 20ms/step - loss: 0.0439 - mae: 0.1498 - val_loss: 0.0487 - val_mae: 0.1555\b\b\b\b\b\b\b\b\b\b\b\b\b\b\b\b\b\b\b\b\b\b\b\b\b\b\b\b\b\nEpoch 17/50\n\u001b[1m3/3\u001b[0m \u001b[32m━━━━━━━━━━━━━━━━━━━━\u001b[0m\u001b[37m\u001b[0m \u001b[1m0s\u001b[0m 20ms/step - loss: 0.0431 - mae: 0.1505 - val_loss: 0.0486 - val_mae: 0.1531\b\b\b\b\b\b\b\b\b\b\b\b\b\b\b\b\b\b\b\b\b\b\b\b\b\b\b\b\b\nEpoch 18/50\n\u001b[1m3/3\u001b[0m \u001b[32m━━━━━━━━━━━━━━━━━━━━\u001b[0m\u001b[37m\u001b[0m \u001b[1m0s\u001b[0m 21ms/step - loss: 0.0436 - mae: 0.1496 - val_loss: 0.0488 - val_mae: 0.1551\b\b\b\b\b\b\b\b\b\b\b\b\b\b\b\b\b\b\b\b\b\b\b\b\b\b\b\b\b\nEpoch 19/50\n\u001b[1m3/3\u001b[0m \u001b[32m━━━━━━━━━━━━━━━━━━━━\u001b[0m\u001b[37m\u001b[0m \u001b[1m0s\u001b[0m 20ms/step - loss: 0.0432 - mae: 0.1505 - val_loss: 0.0488 - val_mae: 0.1542\b\b\b\b\b\b\b\b\b\b\b\b\b\b\b\b\b\b\b\b\b\b\b\b\b\b\b\b\b\nEpoch 20/50\n\u001b[1m3/3\u001b[0m \u001b[32m━━━━━━━━━━━━━━━━━━━━\u001b[0m\u001b[37m\u001b[0m \u001b[1m0s\u001b[0m 21ms/step - loss: 0.0420 - mae: 0.1463 - val_loss: 0.0488 - val_mae: 0.1524\b\b\b\b\b\b\b\b\b\b\b\b\b\b\b\b\b\b\b\b\b\b\b\b\b\b\b\b\b\nEpoch 21/50\n\u001b[1m3/3\u001b[0m \u001b[32m━━━━━━━━━━━━━━━━━━━━\u001b[0m\u001b[37m\u001b[0m \u001b[1m0s\u001b[0m 22ms/step - loss: 0.0426 - mae: 0.1471 - val_loss: 0.0487 - val_mae: 0.1553\b\b\b\b\b\b\b\b\b\b\b\b\b\b\b\b\b\b\b\b\b\b\b\b\b\b\b\b\b\nEpoch 22/50\n\u001b[1m3/3\u001b[0m \u001b[32m━━━━━━━━━━━━━━━━━━━━\u001b[0m\u001b[37m\u001b[0m \u001b[1m0s\u001b[0m 21ms/step - loss: 0.0417 - mae: 0.1469 - val_loss: 0.0484 - val_mae: 0.1531\b\b\b\b\b\b\b\b\b\b\b\b\b\b\b\b\b\b\b\b\b\b\b\b\b\b\b\b\b\nEpoch 23/50\n\u001b[1m3/3\u001b[0m \u001b[32m━━━━━━━━━━━━━━━━━━━━\u001b[0m\u001b[37m\u001b[0m \u001b[1m0s\u001b[0m 20ms/step - loss: 0.0421 - mae: 0.1465 - val_loss: 0.0489 - val_mae: 0.1559\b\b\b\b\b\b\b\b\b\b\b\b\b\b\b\b\b\b\b\b\b\b\b\b\b\b\b\b\b\nEpoch 24/50\n\u001b[1m3/3\u001b[0m \u001b[32m━━━━━━━━━━━━━━━━━━━━\u001b[0m\u001b[37m\u001b[0m \u001b[1m0s\u001b[0m 20ms/step - loss: 0.0402 - mae: 0.1440 - val_loss: 0.0488 - val_mae: 0.1531\b\b\b\b\b\b\b\b\b\b\b\b\b\b\b\b\b\b\b\b\b\b\b\b\b\b\b\b\b\nEpoch 25/50\n\u001b[1m3/3\u001b[0m \u001b[32m━━━━━━━━━━━━━━━━━━━━\u001b[0m\u001b[37m\u001b[0m \u001b[1m0s\u001b[0m 21ms/step - loss: 0.0399 - mae: 0.1420 - val_loss: 0.0483 - val_mae: 0.1547\b\b\b\b\b\b\b\b\b\b\b\b\b\b\b\b\b\b\b\b\b\b\b\b\b\b\b\b\b\nEpoch 26/50\n\u001b[1m3/3\u001b[0m \u001b[32m━━━━━━━━━━━━━━━━━━━━\u001b[0m\u001b[37m\u001b[0m \u001b[1m0s\u001b[0m 21ms/step - loss: 0.0398 - mae: 0.1420 - val_loss: 0.0483 - val_mae: 0.1518\b\b\b\b\b\b\b\b\b\b\b\b\b\b\b\b\b\b\b\b\b\b\b\b\b\b\b\b\b\nEpoch 27/50\n\u001b[1m3/3\u001b[0m \u001b[32m━━━━━━━━━━━━━━━━━━━━\u001b[0m\u001b[37m\u001b[0m \u001b[1m0s\u001b[0m 24ms/step - loss: 0.0391 - mae: 0.1397 - val_loss: 0.0485 - val_mae: 0.1569\b\b\b\b\b\b\b\b\b\b\b\b\b\b\b\b\b\b\b\b\b\b\b\b\b\b\b\b\b\nEpoch 28/50\n\u001b[1m3/3\u001b[0m \u001b[32m━━━━━━━━━━━━━━━━━━━━\u001b[0m\u001b[37m\u001b[0m \u001b[1m0s\u001b[0m 23ms/step - loss: 0.0391 - mae: 0.1413 - val_loss: 0.0484 - val_mae: 0.1548\b\b\b\b\b\b\b\b\b\b\b\b\b\b\b\b\b\b\b\b\b\b\b\b\b\b\b\b\b\nEpoch 29/50\n\u001b[1m3/3\u001b[0m \u001b[32m━━━━━━━━━━━━━━━━━━━━\u001b[0m\u001b[37m\u001b[0m \u001b[1m0s\u001b[0m 21ms/step - loss: 0.0394 - mae: 0.1397 - val_loss: 0.0483 - val_mae: 0.1572\b\b\b\b\b\b\b\b\b\b\b\b\b\b\b\b\b\b\b\b\b\b\b\b\b\b\b\b\b\nEpoch 30/50\n\u001b[1m3/3\u001b[0m \u001b[32m━━━━━━━━━━━━━━━━━━━━\u001b[0m\u001b[37m\u001b[0m \u001b[1m0s\u001b[0m 21ms/step - loss: 0.0382 - mae: 0.1403 - val_loss: 0.0486 - val_mae: 0.1537\b\b\b\b\b\b\b\b\b\b\b\b\b\b\b\b\b\b\b\b\b\b\b\b\b\b\b\b\b\nEpoch 31/50\n\u001b[1m3/3\u001b[0m \u001b[32m━━━━━━━━━━━━━━━━━━━━\u001b[0m\u001b[37m\u001b[0m \u001b[1m0s\u001b[0m 20ms/step - loss: 0.0376 - mae: 0.1363 - val_loss: 0.0485 - val_mae: 0.1526\b\b\b\b\b\b\b\b\b\b\b\b\b\b\b\b\b\b\b\b\b\b\b\b\b\b\b\b\b\nEpoch 32/50\n\u001b[1m3/3\u001b[0m \u001b[32m━━━━━━━━━━━━━━━━━━━━\u001b[0m\u001b[37m\u001b[0m \u001b[1m0s\u001b[0m 21ms/step - loss: 0.0375 - mae: 0.1371 - val_loss: 0.0483 - val_mae: 0.1553\b\b\b\b\b\b\b\b\b\b\b\b\b\b\b\b\b\b\b\b\b\b\b\b\b\b\b\b\b\nEpoch 33/50\n\u001b[1m3/3\u001b[0m \u001b[32m━━━━━━━━━━━━━━━━━━━━\u001b[0m\u001b[37m\u001b[0m \u001b[1m0s\u001b[0m 22ms/step - loss: 0.0367 - mae: 0.1360 - val_loss: 0.0487 - val_mae: 0.1547\b\b\b\b\b\b\b\b\b\b\b\b\b\b\b\b\b\b\b\b\b\b\b\b\b\b\b\b\b\nEpoch 34/50\n\u001b[1m3/3\u001b[0m \u001b[32m━━━━━━━━━━━━━━━━━━━━\u001b[0m\u001b[37m\u001b[0m \u001b[1m0s\u001b[0m 20ms/step - loss: 0.0371 - mae: 0.1356 - val_loss: 0.0484 - val_mae: 0.1547\b\b\b\b\b\b\b\b\b\b\b\b\b\b\b\b\b\b\b\b\b\b\b\b\b\b\b\b\b\nEpoch 35/50\n\u001b[1m3/3\u001b[0m \u001b[32m━━━━━━━━━━━━━━━━━━━━\u001b[0m\u001b[37m\u001b[0m \u001b[1m0s\u001b[0m 20ms/step - loss: 0.0364 - mae: 0.1346 - val_loss: 0.0482 - val_mae: 0.1537\b\b\b\b\b\b\b\b\b\b\b\b\b\b\b\b\b\b\b\b\b\b\b\b\b\b\b\b\b\nEpoch 36/50\n\u001b[1m3/3\u001b[0m \u001b[32m━━━━━━━━━━━━━━━━━━━━\u001b[0m\u001b[37m\u001b[0m \u001b[1m0s\u001b[0m 21ms/step - loss: 0.0360 - mae: 0.1333 - val_loss: 0.0483 - val_mae: 0.1540\b\b\b\b\b\b\b\b\b\b\b\b\b\b\b\b\b\b\b\b\b\b\b\b\b\b\b\b\b\nEpoch 37/50\n\u001b[1m3/3\u001b[0m \u001b[32m━━━━━━━━━━━━━━━━━━━━\u001b[0m\u001b[37m\u001b[0m \u001b[1m0s\u001b[0m 20ms/step - loss: 0.0356 - mae: 0.1334 - val_loss: 0.0480 - val_mae: 0.1502\b\b\b\b\b\b\b\b\b\b\b\b\b\b\b\b\b\b\b\b\b\b\b\b\b\b\b\b\b\nEpoch 38/50\n\u001b[1m3/3\u001b[0m \u001b[32m━━━━━━━━━━━━━━━━━━━━\u001b[0m\u001b[37m\u001b[0m \u001b[1m0s\u001b[0m 20ms/step - loss: 0.0360 - mae: 0.1317 - val_loss: 0.0478 - val_mae: 0.1553\b\b\b\b\b\b\b\b\b\b\b\b\b\b\b\b\b\b\b\b\b\b\b\b\b\b\b\b\b\nEpoch 39/50\n\u001b[1m3/3\u001b[0m \u001b[32m━━━━━━━━━━━━━━━━━━━━\u001b[0m\u001b[37m\u001b[0m \u001b[1m0s\u001b[0m 21ms/step - loss: 0.0357 - mae: 0.1348 - val_loss: 0.0478 - val_mae: 0.1529\b\b\b\b\b\b\b\b\b\b\b\b\b\b\b\b\b\b\b\b\b\b\b\b\b\b\b\b\b\nEpoch 40/50\n\u001b[1m3/3\u001b[0m \u001b[32m━━━━━━━━━━━━━━━━━━━━\u001b[0m\u001b[37m\u001b[0m \u001b[1m0s\u001b[0m 20ms/step - loss: 0.0344 - mae: 0.1299 - val_loss: 0.0476 - val_mae: 0.1489\b\b\b\b\b\b\b\b\b\b\b\b\b\b\b\b\b\b\b\b\b\b\b\b\b\b\b\b\b\nEpoch 41/50\n\u001b[1m3/3\u001b[0m \u001b[32m━━━━━━━━━━━━━━━━━━━━\u001b[0m\u001b[37m\u001b[0m \u001b[1m0s\u001b[0m 20ms/step - loss: 0.0355 - mae: 0.1313 - val_loss: 0.0474 - val_mae: 0.1521\b\b\b\b\b\b\b\b\b\b\b\b\b\b\b\b\b\b\b\b\b\b\b\b\b\b\b\b\b\nEpoch 42/50\n\u001b[1m3/3\u001b[0m \u001b[32m━━━━━━━━━━━━━━━━━━━━\u001b[0m\u001b[37m\u001b[0m \u001b[1m0s\u001b[0m 21ms/step - loss: 0.0343 - mae: 0.1303 - val_loss: 0.0481 - val_mae: 0.1479\b\b\b\b\b\b\b\b\b\b\b\b\b\b\b\b\b\b\b\b\b\b\b\b\b\b\b\b\b\nEpoch 43/50\n\u001b[1m3/3\u001b[0m \u001b[32m━━━━━━━━━━━━━━━━━━━━\u001b[0m\u001b[37m\u001b[0m \u001b[1m0s\u001b[0m 20ms/step - loss: 0.0346 - mae: 0.1278 - val_loss: 0.0472 - val_mae: 0.1511\b\b\b\b\b\b\b\b\b\b\b\b\b\b\b\b\b\b\b\b\b\b\b\b\b\b\b\b\b\nEpoch 44/50\n\u001b[1m3/3\u001b[0m \u001b[32m━━━━━━━━━━━━━━━━━━━━\u001b[0m\u001b[37m\u001b[0m \u001b[1m0s\u001b[0m 23ms/step - loss: 0.0333 - mae: 0.1292 - val_loss: 0.0467 - val_mae: 0.1516\b\b\b\b\b\b\b\b\b\b\b\b\b\b\b\b\b\b\b\b\b\b\b\b\b\b\b\b\b\nEpoch 45/50\n\u001b[1m3/3\u001b[0m \u001b[32m━━━━━━━━━━━━━━━━━━━━\u001b[0m\u001b[37m\u001b[0m \u001b[1m0s\u001b[0m 22ms/step - loss: 0.0339 - mae: 0.1302 - val_loss: 0.0477 - val_mae: 0.1500\b\b\b\b\b\b\b\b\b\b\b\b\b\b\b\b\b\b\b\b\b\b\b\b\b\b\b\b\b\nEpoch 46/50\n\u001b[1m3/3\u001b[0m \u001b[32m━━━━━━━━━━━━━━━━━━━━\u001b[0m\u001b[37m\u001b[0m \u001b[1m0s\u001b[0m 23ms/step - loss: 0.0326 - mae: 0.1260 - val_loss: 0.0478 - val_mae: 0.1495\b\b\b\b\b\b\b\b\b\b\b\b\b\b\b\b\b\b\b\b\b\b\b\b\b\b\b\b\b\nEpoch 47/50\n\u001b[1m3/3\u001b[0m \u001b[32m━━━━━━━━━━━━━━━━━━━━\u001b[0m\u001b[37m\u001b[0m \u001b[1m0s\u001b[0m 20ms/step - loss: 0.0330 - mae: 0.1271 - val_loss: 0.0471 - val_mae: 0.1498\b\b\b\b\b\b\b\b\b\b\b\b\b\b\b\b\b\b\b\b\b\b\b\b\b\b\b\b\b\nEpoch 48/50\n\u001b[1m3/3\u001b[0m \u001b[32m━━━━━━━━━━━━━━━━━━━━\u001b[0m\u001b[37m\u001b[0m \u001b[1m0s\u001b[0m 22ms/step - loss: 0.0333 - mae: 0.1287 - val_loss: 0.0480 - val_mae: 0.1491\b\b\b\b\b\b\b\b\b\b\b\b\b\b\b\b\b\b\b\b\b\b\b\b\b\b\b\b\b\nEpoch 49/50\n\u001b[1m3/3\u001b[0m \u001b[32m━━━━━━━━━━━━━━━━━━━━\u001b[0m\u001b[37m\u001b[0m \u001b[1m0s\u001b[0m 22ms/step - loss: 0.0335 - mae: 0.1275 - val_loss: 0.0484 - val_mae: 0.1543\b\b\b\b\b\b\b\b\b\b\b\b\b\b\b\b\b\b\b\b\b\b\b\b\b\b\b\b\b\nEpoch 50/50\n\u001b[1m3/3\u001b[0m \u001b[32m━━━━━━━━━━━━━━━━━━━━\u001b[0m\u001b[37m\u001b[0m \u001b[1m0s\u001b[0m 22ms/step - loss: 0.0326 - mae: 0.1272 - val_loss: 0.0467 - val_mae: 0.1487\b\b\b\b\b\b\b\b\b\b\b\b\b\b\b\b\b\b\b\b\b\b\b\b\b\b\b\b\b\n"
        }
      ],
      "execution_count": 38,
      "metadata": {
        "jupyter": {
          "source_hidden": false,
          "outputs_hidden": false
        },
        "nteract": {
          "transient": {
            "deleting": false
          }
        },
        "gather": {
          "logged": 1719154140714
        }
      }
    },
    {
      "cell_type": "code",
      "source": [
        "# Evaluate the model\n",
        "test_loss, test_mae = model.evaluate(trainX_test, trainY_test)\n",
        "print('Test loss:', test_loss)\n",
        "print('Test MAE:', test_mae)"
      ],
      "outputs": [
        {
          "output_type": "stream",
          "name": "stdout",
          "text": "\r\u001b[1m1/1\u001b[0m \u001b[32m━━━━━━━━━━━━━━━━━━━━\u001b[0m\u001b[37m\u001b[0m \u001b[1m0s\u001b[0m 20ms/step - loss: 0.0520 - mae: 0.1543\b\b\b\b\b\b\b\b\b\b\b\b\b\b\b\b\b\b\b\b\b\b\b\b\b\b\b\b\b\b\b\b\b\b\b\b\b\b\b\b\b\b\b\b\b\b\b\b\b\b\b\b\b\b\b\b\b\b\b\b\b\b\b\b\b\b\r\u001b[1m1/1\u001b[0m \u001b[32m━━━━━━━━━━━━━━━━━━━━\u001b[0m\u001b[37m\u001b[0m \u001b[1m0s\u001b[0m 23ms/step - loss: 0.0520 - mae: 0.1543\nTest loss: 0.05204232037067413\nTest MAE: 0.1543174833059311\n"
        }
      ],
      "execution_count": 39,
      "metadata": {
        "jupyter": {
          "source_hidden": false,
          "outputs_hidden": false
        },
        "nteract": {
          "transient": {
            "deleting": false
          }
        },
        "gather": {
          "logged": 1719154166196
        }
      }
    },
    {
      "cell_type": "code",
      "source": [
        "# Make predictions\n",
        "predictions = model.predict(trainX_test)\n",
        "\n",
        "# Inverse transform the sales data\n",
        "predictions_sales_original = scaler_grocery.inverse_transform(predictions)"
      ],
      "outputs": [
        {
          "output_type": "stream",
          "name": "stdout",
          "text": "\r\u001b[1m1/1\u001b[0m \u001b[32m━━━━━━━━━━━━━━━━━━━━\u001b[0m\u001b[37m\u001b[0m \u001b[1m0s\u001b[0m 242ms/step\b\b\b\b\b\b\b\b\b\b\b\b\b\b\b\b\b\b\b\b\b\b\b\b\b\b\b\b\b\b\b\b\b\b\b\b\b\b\r\u001b[1m1/1\u001b[0m \u001b[32m━━━━━━━━━━━━━━━━━━━━\u001b[0m\u001b[37m\u001b[0m \u001b[1m0s\u001b[0m 243ms/step\n"
        }
      ],
      "execution_count": 40,
      "metadata": {
        "jupyter": {
          "source_hidden": false,
          "outputs_hidden": false
        },
        "nteract": {
          "transient": {
            "deleting": false
          }
        },
        "gather": {
          "logged": 1719154372828
        }
      }
    },
    {
      "cell_type": "code",
      "source": [
        "predictions_sales_original.shape"
      ],
      "outputs": [
        {
          "output_type": "execute_result",
          "execution_count": 42,
          "data": {
            "text/plain": "(16, 1267)"
          },
          "metadata": {}
        }
      ],
      "execution_count": 42,
      "metadata": {
        "jupyter": {
          "source_hidden": false,
          "outputs_hidden": false
        },
        "nteract": {
          "transient": {
            "deleting": false
          }
        },
        "gather": {
          "logged": 1719154393178
        }
      }
    },
    {
      "cell_type": "code",
      "source": [
        "# Plot predictions vs actual values for the first grocery item\n",
        "grocery_item_index = 2\n",
        "\n",
        "plt.figure(figsize=(12, 6))\n",
        "plt.plot(trainY_test[:, grocery_item_index], label='Actual Sales')\n",
        "plt.plot(predictions_sales_original[:, grocery_item_index], label='Predicted Sales')\n",
        "plt.title(f'Predictions vs Actual Sales for Grocery Item {grocery_item_index+1}')\n",
        "plt.xlabel('Week')\n",
        "plt.ylabel('Sales')\n",
        "plt.legend()\n",
        "plt.show()"
      ],
      "outputs": [
        {
          "output_type": "display_data",
          "data": {
            "text/plain": "<Figure size 1200x600 with 1 Axes>",
            "image/png": "[encoded data removed]"
          },
          "metadata": {}
        }
      ],
      "execution_count": 45,
      "metadata": {
        "jupyter": {
          "source_hidden": false,
          "outputs_hidden": false
        },
        "nteract": {
          "transient": {
            "deleting": false
          }
        },
        "gather": {
          "logged": 1719154665296
        }
      }
    },
    {
      "cell_type": "code",
      "source": [],
      "outputs": [],
      "execution_count": null,
      "metadata": {
        "jupyter": {
          "source_hidden": false,
          "outputs_hidden": false
        },
        "nteract": {
          "transient": {
            "deleting": false
          }
        }
      }
    },
    {
      "cell_type": "code",
      "source": [],
      "outputs": [],
      "execution_count": null,
      "metadata": {
        "jupyter": {
          "source_hidden": false,
          "outputs_hidden": false
        },
        "nteract": {
          "transient": {
            "deleting": false
          }
        }
      }
    },
    {
      "cell_type": "code",
      "source": [],
      "outputs": [],
      "execution_count": null,
      "metadata": {
        "jupyter": {
          "source_hidden": false,
          "outputs_hidden": false
        },
        "nteract": {
          "transient": {
            "deleting": false
          }
        }
      }
    },
    {
      "cell_type": "code",
      "source": [],
      "outputs": [],
      "execution_count": null,
      "metadata": {
        "jupyter": {
          "source_hidden": false,
          "outputs_hidden": false
        },
        "nteract": {
          "transient": {
            "deleting": false
          }
        }
      }
    },
    {
      "cell_type": "code",
      "source": [],
      "outputs": [],
      "execution_count": null,
      "metadata": {
        "jupyter": {
          "source_hidden": false,
          "outputs_hidden": false
        },
        "nteract": {
          "transient": {
            "deleting": false
          }
        }
      }
    },
    {
      "cell_type": "code",
      "source": [],
      "outputs": [],
      "execution_count": null,
      "metadata": {
        "jupyter": {
          "source_hidden": false,
          "outputs_hidden": false
        },
        "nteract": {
          "transient": {
            "deleting": false
          }
        }
      }
    },
    {
      "cell_type": "code",
      "source": [],
      "outputs": [],
      "execution_count": null,
      "metadata": {
        "jupyter": {
          "source_hidden": false,
          "outputs_hidden": false
        },
        "nteract": {
          "transient": {
            "deleting": false
          }
        }
      }
    },
    {
      "cell_type": "code",
      "source": [],
      "outputs": [],
      "execution_count": null,
      "metadata": {
        "jupyter": {
          "source_hidden": false,
          "outputs_hidden": false
        },
        "nteract": {
          "transient": {
            "deleting": false
          }
        }
      }
    },
    {
      "cell_type": "code",
      "source": [],
      "outputs": [],
      "execution_count": null,
      "metadata": {
        "jupyter": {
          "source_hidden": false,
          "outputs_hidden": false
        },
        "nteract": {
          "transient": {
            "deleting": false
          }
        }
      }
    },
    {
      "cell_type": "code",
      "source": [],
      "outputs": [],
      "execution_count": null,
      "metadata": {
        "jupyter": {
          "source_hidden": false,
          "outputs_hidden": false
        },
        "nteract": {
          "transient": {
            "deleting": false
          }
        }
      }
    },
    {
      "cell_type": "code",
      "source": [],
      "outputs": [],
      "execution_count": null,
      "metadata": {
        "jupyter": {
          "source_hidden": false,
          "outputs_hidden": false
        },
        "nteract": {
          "transient": {
            "deleting": false
          }
        }
      }
    },
    {
      "cell_type": "code",
      "source": [],
      "outputs": [],
      "execution_count": null,
      "metadata": {
        "jupyter": {
          "source_hidden": false,
          "outputs_hidden": false
        },
        "nteract": {
          "transient": {
            "deleting": false
          }
        }
      }
    },
    {
      "cell_type": "code",
      "source": [],
      "outputs": [],
      "execution_count": null,
      "metadata": {
        "jupyter": {
          "source_hidden": false,
          "outputs_hidden": false
        },
        "nteract": {
          "transient": {
            "deleting": false
          }
        }
      }
    }
  ],
  "metadata": {
    "kernelspec": {
      "name": "python310-sdkv2",
      "language": "python",
      "display_name": "Python 3.10 - SDK v2"
    },
    "language_info": {
      "name": "python",
      "version": "3.10.11",
      "mimetype": "text/x-python",
      "codemirror_mode": {
        "name": "ipython",
        "version": 3
      },
      "pygments_lexer": "ipython3",
      "nbconvert_exporter": "python",
      "file_extension": ".py"
    },
    "microsoft": {
      "ms_spell_check": {
        "ms_spell_check_language": "en"
      },
      "host": {
        "AzureML": {
          "notebookHasBeenCompleted": true
        }
      }
    },
    "kernel_info": {
      "name": "python310-sdkv2"
    },
    "nteract": {
      "version": "nteract-front-end@1.0.0"
    }
  },
  "nbformat": 4,
  "nbformat_minor": 2
}